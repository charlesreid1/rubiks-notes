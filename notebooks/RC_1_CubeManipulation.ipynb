{
 "cells": [
  {
   "cell_type": "markdown",
   "metadata": {},
   "source": [
    "# Virtual Rubik's Cube\n",
    "\n",
    "In this notebook we show a brief demonstration of how to create and manipulate a virtual 4x4 Rubik's Cube (a Rubik's Revenge puzzle).\n",
    "\n",
    "We use the [rbuikscubennnsolver](https://github.com/dwalton76/rubiks-cube-NxNxN-solver) library from Github."
   ]
  },
  {
   "cell_type": "code",
   "execution_count": 1,
   "metadata": {},
   "outputs": [],
   "source": [
    "from rubikscubennnsolver.RubiksCube444 import RubiksCube444, solved_4x4x4\n",
    "from pprint import pprint"
   ]
  },
  {
   "cell_type": "code",
   "execution_count": 2,
   "metadata": {},
   "outputs": [],
   "source": [
    "def get_cube():\n",
    "    \"\"\"\n",
    "    Get a 4x4 Rubiks Cube.\n",
    "    \"\"\"\n",
    "    order = 'URFDLB'\n",
    "    cube = RubiksCube444(solved_4x4x4, order)\n",
    "    return cube"
   ]
  },
  {
   "cell_type": "code",
   "execution_count": 3,
   "metadata": {
    "scrolled": true
   },
   "outputs": [
    {
     "name": "stdout",
     "output_type": "stream",
     "text": [
      "         \u001b[97mU\u001b[0m \u001b[97mU\u001b[0m \u001b[97mU\u001b[0m \u001b[97mU\u001b[0m \n",
      "         \u001b[97mU\u001b[0m \u001b[97mU\u001b[0m \u001b[97mU\u001b[0m \u001b[97mU\u001b[0m \n",
      "         \u001b[97mU\u001b[0m \u001b[97mU\u001b[0m \u001b[97mU\u001b[0m \u001b[97mU\u001b[0m \n",
      "         \u001b[97mU\u001b[0m \u001b[97mU\u001b[0m \u001b[97mU\u001b[0m \u001b[97mU\u001b[0m \n",
      "\n",
      "\u001b[90mL\u001b[0m \u001b[90mL\u001b[0m \u001b[90mL\u001b[0m \u001b[90mL\u001b[0m  \u001b[92mF\u001b[0m \u001b[92mF\u001b[0m \u001b[92mF\u001b[0m \u001b[92mF\u001b[0m  \u001b[91mR\u001b[0m \u001b[91mR\u001b[0m \u001b[91mR\u001b[0m \u001b[91mR\u001b[0m  \u001b[94mB\u001b[0m \u001b[94mB\u001b[0m \u001b[94mB\u001b[0m \u001b[94mB\u001b[0m \n",
      "\u001b[90mL\u001b[0m \u001b[90mL\u001b[0m \u001b[90mL\u001b[0m \u001b[90mL\u001b[0m  \u001b[92mF\u001b[0m \u001b[92mF\u001b[0m \u001b[92mF\u001b[0m \u001b[92mF\u001b[0m  \u001b[91mR\u001b[0m \u001b[91mR\u001b[0m \u001b[91mR\u001b[0m \u001b[91mR\u001b[0m  \u001b[94mB\u001b[0m \u001b[94mB\u001b[0m \u001b[94mB\u001b[0m \u001b[94mB\u001b[0m \n",
      "\u001b[90mL\u001b[0m \u001b[90mL\u001b[0m \u001b[90mL\u001b[0m \u001b[90mL\u001b[0m  \u001b[92mF\u001b[0m \u001b[92mF\u001b[0m \u001b[92mF\u001b[0m \u001b[92mF\u001b[0m  \u001b[91mR\u001b[0m \u001b[91mR\u001b[0m \u001b[91mR\u001b[0m \u001b[91mR\u001b[0m  \u001b[94mB\u001b[0m \u001b[94mB\u001b[0m \u001b[94mB\u001b[0m \u001b[94mB\u001b[0m \n",
      "\u001b[90mL\u001b[0m \u001b[90mL\u001b[0m \u001b[90mL\u001b[0m \u001b[90mL\u001b[0m  \u001b[92mF\u001b[0m \u001b[92mF\u001b[0m \u001b[92mF\u001b[0m \u001b[92mF\u001b[0m  \u001b[91mR\u001b[0m \u001b[91mR\u001b[0m \u001b[91mR\u001b[0m \u001b[91mR\u001b[0m  \u001b[94mB\u001b[0m \u001b[94mB\u001b[0m \u001b[94mB\u001b[0m \u001b[94mB\u001b[0m \n",
      "\n",
      "         \u001b[93mD\u001b[0m \u001b[93mD\u001b[0m \u001b[93mD\u001b[0m \u001b[93mD\u001b[0m \n",
      "         \u001b[93mD\u001b[0m \u001b[93mD\u001b[0m \u001b[93mD\u001b[0m \u001b[93mD\u001b[0m \n",
      "         \u001b[93mD\u001b[0m \u001b[93mD\u001b[0m \u001b[93mD\u001b[0m \u001b[93mD\u001b[0m \n",
      "         \u001b[93mD\u001b[0m \u001b[93mD\u001b[0m \u001b[93mD\u001b[0m \u001b[93mD\u001b[0m \n",
      "\n",
      "\n"
     ]
    }
   ],
   "source": [
    "rr = get_cube()\n",
    "rr.print_cube()"
   ]
  },
  {
   "cell_type": "markdown",
   "metadata": {},
   "source": [
    "The cube starts in the solved state, and from there we can apply a sequence of moves (more on the move notation in the next notebook). For example, the notation for turning the upper face clockwise, then left face clockwise, then upper face counter-clockwise, then left face counter-clockwise, would be \"U L U' L'\". To apply this to the virtual cube, we use the cube's `rotate(move)` method to apply each move.\n",
    "\n",
    "We will use this cube and this sequence to demonstrate a curious property that any move sequence will fulfill: if we repeatedly apply a move sequence to a solved cube, the cube will eventually return to a solved state. The number of times we need to apply the sequence depends on the sequence itself (and can be as small as 1 or as high as nearly 100,000).\n",
    "\n",
    "In between these cycles, the center four squares or the 8 squares comprising the cross will occasionally all go through a solved state (that is, the cube will reach a \"lower entropy\" state). We can check that with the `crosses_solved()` and `center_solved()` methods.\n",
    "\n",
    "For the sequence we picked, ULU'L, the cross pattern will reappear after the squence is applied 3 times, and the cube will return to the solved state after the sequence is applied 6 times."
   ]
  },
  {
   "cell_type": "code",
   "execution_count": 4,
   "metadata": {},
   "outputs": [],
   "source": [
    "# Apply this sequence 3 times to a solved cube, and the cross pattern re-appears on each face.\n",
    "# Apply this sequence 6 times to a solved cube, and the entire cube returns to solved state.\n",
    "sequence = [\"U\",\"L\",\"U'\",\"L'\"]"
   ]
  },
  {
   "cell_type": "code",
   "execution_count": 5,
   "metadata": {},
   "outputs": [],
   "source": [
    "for move in sequence:\n",
    "    rr.rotate(move)\n",
    "for move in sequence:\n",
    "    rr.rotate(move)\n",
    "for move in sequence:\n",
    "    rr.rotate(move)"
   ]
  },
  {
   "cell_type": "code",
   "execution_count": 6,
   "metadata": {},
   "outputs": [
    {
     "name": "stdout",
     "output_type": "stream",
     "text": [
      "         \u001b[93mD\u001b[0m \u001b[97mU\u001b[0m \u001b[97mU\u001b[0m \u001b[97mU\u001b[0m \n",
      "         \u001b[97mU\u001b[0m \u001b[97mU\u001b[0m \u001b[97mU\u001b[0m \u001b[97mU\u001b[0m \n",
      "         \u001b[97mU\u001b[0m \u001b[97mU\u001b[0m \u001b[97mU\u001b[0m \u001b[97mU\u001b[0m \n",
      "         \u001b[92mF\u001b[0m \u001b[97mU\u001b[0m \u001b[97mU\u001b[0m \u001b[92mF\u001b[0m \n",
      "\n",
      "\u001b[94mB\u001b[0m \u001b[90mL\u001b[0m \u001b[90mL\u001b[0m \u001b[91mR\u001b[0m  \u001b[97mU\u001b[0m \u001b[92mF\u001b[0m \u001b[92mF\u001b[0m \u001b[97mU\u001b[0m  \u001b[90mL\u001b[0m \u001b[91mR\u001b[0m \u001b[91mR\u001b[0m \u001b[91mR\u001b[0m  \u001b[94mB\u001b[0m \u001b[94mB\u001b[0m \u001b[94mB\u001b[0m \u001b[90mL\u001b[0m \n",
      "\u001b[90mL\u001b[0m \u001b[90mL\u001b[0m \u001b[90mL\u001b[0m \u001b[90mL\u001b[0m  \u001b[92mF\u001b[0m \u001b[92mF\u001b[0m \u001b[92mF\u001b[0m \u001b[92mF\u001b[0m  \u001b[91mR\u001b[0m \u001b[91mR\u001b[0m \u001b[91mR\u001b[0m \u001b[91mR\u001b[0m  \u001b[94mB\u001b[0m \u001b[94mB\u001b[0m \u001b[94mB\u001b[0m \u001b[94mB\u001b[0m \n",
      "\u001b[90mL\u001b[0m \u001b[90mL\u001b[0m \u001b[90mL\u001b[0m \u001b[90mL\u001b[0m  \u001b[92mF\u001b[0m \u001b[92mF\u001b[0m \u001b[92mF\u001b[0m \u001b[92mF\u001b[0m  \u001b[91mR\u001b[0m \u001b[91mR\u001b[0m \u001b[91mR\u001b[0m \u001b[91mR\u001b[0m  \u001b[94mB\u001b[0m \u001b[94mB\u001b[0m \u001b[94mB\u001b[0m \u001b[94mB\u001b[0m \n",
      "\u001b[94mB\u001b[0m \u001b[90mL\u001b[0m \u001b[90mL\u001b[0m \u001b[90mL\u001b[0m  \u001b[92mF\u001b[0m \u001b[92mF\u001b[0m \u001b[92mF\u001b[0m \u001b[92mF\u001b[0m  \u001b[91mR\u001b[0m \u001b[91mR\u001b[0m \u001b[91mR\u001b[0m \u001b[91mR\u001b[0m  \u001b[94mB\u001b[0m \u001b[94mB\u001b[0m \u001b[94mB\u001b[0m \u001b[90mL\u001b[0m \n",
      "\n",
      "         \u001b[93mD\u001b[0m \u001b[93mD\u001b[0m \u001b[93mD\u001b[0m \u001b[93mD\u001b[0m \n",
      "         \u001b[93mD\u001b[0m \u001b[93mD\u001b[0m \u001b[93mD\u001b[0m \u001b[93mD\u001b[0m \n",
      "         \u001b[93mD\u001b[0m \u001b[93mD\u001b[0m \u001b[93mD\u001b[0m \u001b[93mD\u001b[0m \n",
      "         \u001b[97mU\u001b[0m \u001b[93mD\u001b[0m \u001b[93mD\u001b[0m \u001b[93mD\u001b[0m \n",
      "\n",
      "\n"
     ]
    },
    {
     "data": {
      "text/plain": [
       "True"
      ]
     },
     "execution_count": 6,
     "metadata": {},
     "output_type": "execute_result"
    }
   ],
   "source": [
    "rr.print_cube()\n",
    "rr.crosses_solved()"
   ]
  },
  {
   "cell_type": "code",
   "execution_count": 7,
   "metadata": {},
   "outputs": [],
   "source": [
    "for move in sequence:\n",
    "    rr.rotate(move)\n",
    "for move in sequence:\n",
    "    rr.rotate(move)\n",
    "for move in sequence:\n",
    "    rr.rotate(move)"
   ]
  },
  {
   "cell_type": "code",
   "execution_count": 8,
   "metadata": {},
   "outputs": [
    {
     "name": "stdout",
     "output_type": "stream",
     "text": [
      "         \u001b[97mU\u001b[0m \u001b[97mU\u001b[0m \u001b[97mU\u001b[0m \u001b[97mU\u001b[0m \n",
      "         \u001b[97mU\u001b[0m \u001b[97mU\u001b[0m \u001b[97mU\u001b[0m \u001b[97mU\u001b[0m \n",
      "         \u001b[97mU\u001b[0m \u001b[97mU\u001b[0m \u001b[97mU\u001b[0m \u001b[97mU\u001b[0m \n",
      "         \u001b[97mU\u001b[0m \u001b[97mU\u001b[0m \u001b[97mU\u001b[0m \u001b[97mU\u001b[0m \n",
      "\n",
      "\u001b[90mL\u001b[0m \u001b[90mL\u001b[0m \u001b[90mL\u001b[0m \u001b[90mL\u001b[0m  \u001b[92mF\u001b[0m \u001b[92mF\u001b[0m \u001b[92mF\u001b[0m \u001b[92mF\u001b[0m  \u001b[91mR\u001b[0m \u001b[91mR\u001b[0m \u001b[91mR\u001b[0m \u001b[91mR\u001b[0m  \u001b[94mB\u001b[0m \u001b[94mB\u001b[0m \u001b[94mB\u001b[0m \u001b[94mB\u001b[0m \n",
      "\u001b[90mL\u001b[0m \u001b[90mL\u001b[0m \u001b[90mL\u001b[0m \u001b[90mL\u001b[0m  \u001b[92mF\u001b[0m \u001b[92mF\u001b[0m \u001b[92mF\u001b[0m \u001b[92mF\u001b[0m  \u001b[91mR\u001b[0m \u001b[91mR\u001b[0m \u001b[91mR\u001b[0m \u001b[91mR\u001b[0m  \u001b[94mB\u001b[0m \u001b[94mB\u001b[0m \u001b[94mB\u001b[0m \u001b[94mB\u001b[0m \n",
      "\u001b[90mL\u001b[0m \u001b[90mL\u001b[0m \u001b[90mL\u001b[0m \u001b[90mL\u001b[0m  \u001b[92mF\u001b[0m \u001b[92mF\u001b[0m \u001b[92mF\u001b[0m \u001b[92mF\u001b[0m  \u001b[91mR\u001b[0m \u001b[91mR\u001b[0m \u001b[91mR\u001b[0m \u001b[91mR\u001b[0m  \u001b[94mB\u001b[0m \u001b[94mB\u001b[0m \u001b[94mB\u001b[0m \u001b[94mB\u001b[0m \n",
      "\u001b[90mL\u001b[0m \u001b[90mL\u001b[0m \u001b[90mL\u001b[0m \u001b[90mL\u001b[0m  \u001b[92mF\u001b[0m \u001b[92mF\u001b[0m \u001b[92mF\u001b[0m \u001b[92mF\u001b[0m  \u001b[91mR\u001b[0m \u001b[91mR\u001b[0m \u001b[91mR\u001b[0m \u001b[91mR\u001b[0m  \u001b[94mB\u001b[0m \u001b[94mB\u001b[0m \u001b[94mB\u001b[0m \u001b[94mB\u001b[0m \n",
      "\n",
      "         \u001b[93mD\u001b[0m \u001b[93mD\u001b[0m \u001b[93mD\u001b[0m \u001b[93mD\u001b[0m \n",
      "         \u001b[93mD\u001b[0m \u001b[93mD\u001b[0m \u001b[93mD\u001b[0m \u001b[93mD\u001b[0m \n",
      "         \u001b[93mD\u001b[0m \u001b[93mD\u001b[0m \u001b[93mD\u001b[0m \u001b[93mD\u001b[0m \n",
      "         \u001b[93mD\u001b[0m \u001b[93mD\u001b[0m \u001b[93mD\u001b[0m \u001b[93mD\u001b[0m \n",
      "\n",
      "\n"
     ]
    },
    {
     "data": {
      "text/plain": [
       "True"
      ]
     },
     "execution_count": 8,
     "metadata": {},
     "output_type": "execute_result"
    }
   ],
   "source": [
    "rr.print_cube()\n",
    "rr.crosses_solved()\n",
    "rr.solved()"
   ]
  },
  {
   "cell_type": "markdown",
   "metadata": {},
   "source": [
    "It's important to note that (as far as I can tell) this library will not check if a cube position is valid. For example, on a Rubik's Revenge cube, it is impossible to have a double edge with a left piece oriented correctly and a right piece oriented incorrectly, if all other parts of the cube are solved. The double edges must be oriented correctly or incorrectly, together. The following position is impossible:"
   ]
  },
  {
   "cell_type": "code",
   "execution_count": 9,
   "metadata": {},
   "outputs": [],
   "source": [
    "impossible_4x4x4=\"UUUUUUUUUUUUUFUURRRRRRRRRRRRRRRRFUFFFFFFFFFFFFFFDDDDDDDDDDDDDDDDLLLLLLLLLLLLLLLLBBBBBBBBBBBBBBBB\""
   ]
  },
  {
   "cell_type": "code",
   "execution_count": 10,
   "metadata": {},
   "outputs": [],
   "source": [
    "order = 'URFDLB'\n",
    "i = RubiksCube444(impossible_4x4x4,order)"
   ]
  },
  {
   "cell_type": "code",
   "execution_count": 11,
   "metadata": {},
   "outputs": [
    {
     "name": "stdout",
     "output_type": "stream",
     "text": [
      "         \u001b[97mU\u001b[0m \u001b[97mU\u001b[0m \u001b[97mU\u001b[0m \u001b[97mU\u001b[0m \n",
      "         \u001b[97mU\u001b[0m \u001b[97mU\u001b[0m \u001b[97mU\u001b[0m \u001b[97mU\u001b[0m \n",
      "         \u001b[97mU\u001b[0m \u001b[97mU\u001b[0m \u001b[97mU\u001b[0m \u001b[97mU\u001b[0m \n",
      "         \u001b[97mU\u001b[0m \u001b[92mF\u001b[0m \u001b[97mU\u001b[0m \u001b[97mU\u001b[0m \n",
      "\n",
      "\u001b[90mL\u001b[0m \u001b[90mL\u001b[0m \u001b[90mL\u001b[0m \u001b[90mL\u001b[0m  \u001b[92mF\u001b[0m \u001b[97mU\u001b[0m \u001b[92mF\u001b[0m \u001b[92mF\u001b[0m  \u001b[91mR\u001b[0m \u001b[91mR\u001b[0m \u001b[91mR\u001b[0m \u001b[91mR\u001b[0m  \u001b[94mB\u001b[0m \u001b[94mB\u001b[0m \u001b[94mB\u001b[0m \u001b[94mB\u001b[0m \n",
      "\u001b[90mL\u001b[0m \u001b[90mL\u001b[0m \u001b[90mL\u001b[0m \u001b[90mL\u001b[0m  \u001b[92mF\u001b[0m \u001b[92mF\u001b[0m \u001b[92mF\u001b[0m \u001b[92mF\u001b[0m  \u001b[91mR\u001b[0m \u001b[91mR\u001b[0m \u001b[91mR\u001b[0m \u001b[91mR\u001b[0m  \u001b[94mB\u001b[0m \u001b[94mB\u001b[0m \u001b[94mB\u001b[0m \u001b[94mB\u001b[0m \n",
      "\u001b[90mL\u001b[0m \u001b[90mL\u001b[0m \u001b[90mL\u001b[0m \u001b[90mL\u001b[0m  \u001b[92mF\u001b[0m \u001b[92mF\u001b[0m \u001b[92mF\u001b[0m \u001b[92mF\u001b[0m  \u001b[91mR\u001b[0m \u001b[91mR\u001b[0m \u001b[91mR\u001b[0m \u001b[91mR\u001b[0m  \u001b[94mB\u001b[0m \u001b[94mB\u001b[0m \u001b[94mB\u001b[0m \u001b[94mB\u001b[0m \n",
      "\u001b[90mL\u001b[0m \u001b[90mL\u001b[0m \u001b[90mL\u001b[0m \u001b[90mL\u001b[0m  \u001b[92mF\u001b[0m \u001b[92mF\u001b[0m \u001b[92mF\u001b[0m \u001b[92mF\u001b[0m  \u001b[91mR\u001b[0m \u001b[91mR\u001b[0m \u001b[91mR\u001b[0m \u001b[91mR\u001b[0m  \u001b[94mB\u001b[0m \u001b[94mB\u001b[0m \u001b[94mB\u001b[0m \u001b[94mB\u001b[0m \n",
      "\n",
      "         \u001b[93mD\u001b[0m \u001b[93mD\u001b[0m \u001b[93mD\u001b[0m \u001b[93mD\u001b[0m \n",
      "         \u001b[93mD\u001b[0m \u001b[93mD\u001b[0m \u001b[93mD\u001b[0m \u001b[93mD\u001b[0m \n",
      "         \u001b[93mD\u001b[0m \u001b[93mD\u001b[0m \u001b[93mD\u001b[0m \u001b[93mD\u001b[0m \n",
      "         \u001b[93mD\u001b[0m \u001b[93mD\u001b[0m \u001b[93mD\u001b[0m \u001b[93mD\u001b[0m \n",
      "\n",
      "\n"
     ]
    }
   ],
   "source": [
    "i.print_cube()"
   ]
  },
  {
   "cell_type": "markdown",
   "metadata": {},
   "source": [
    "This means that if we want, at some point, to generate random Rubik's Cube permutations, we have to be careful to only generate valid cubes (or else implement a method for RubiksCube444 objects to check if a cube configuration is valid!)."
   ]
  },
  {
   "cell_type": "code",
   "execution_count": null,
   "metadata": {},
   "outputs": [],
   "source": []
  }
 ],
 "metadata": {
  "kernelspec": {
   "display_name": "Python 3",
   "language": "python",
   "name": "python3"
  },
  "language_info": {
   "codemirror_mode": {
    "name": "ipython",
    "version": 3
   },
   "file_extension": ".py",
   "mimetype": "text/x-python",
   "name": "python",
   "nbconvert_exporter": "python",
   "pygments_lexer": "ipython3",
   "version": "3.6.3"
  }
 },
 "nbformat": 4,
 "nbformat_minor": 2
}
