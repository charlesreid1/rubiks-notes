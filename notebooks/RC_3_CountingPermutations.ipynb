{
 "cells": [
  {
   "cell_type": "markdown",
   "metadata": {},
   "source": [
    "# Counting Permutations\n",
    "\n"
   ]
  },
  {
   "cell_type": "markdown",
   "metadata": {},
   "source": [
    "## Permutations of a 3x3 Cube\n",
    "\n",
    "To count number of permutations of a 3x3 cube, we should count permutations due to both the placement and orientation of each type of piece (corners and edges; centers are fixed):\n",
    "\n",
    "* 3 possible rotations of 8 corners, 7 corners determine the 8th = 3^7\n",
    "* 2 possible rotations of 12 edges, 11 edges determine the 12th = 2^11\n",
    "* 8 different corner pieces to be distributed to 8 locations = 8!\n",
    "* 12 different edge pieces to be distributed to 12 locations = 12!\n",
    "\n",
    "Furthermore, some of these possibilities are not possible. Only even parity cases can occur on the 3x3 cube, cutting the number of ways of distributing the corners and edges in half.\n",
    "\n",
    "Total number of permutations of a 3x3 cube:\n",
    "\n",
    "$$\n",
    "N = 3^{7} \\times 2^{11} \\times \\dfrac{ 8! \\times 12! }{ 2 } = 43,252,003,274,489,856,000 \\sim 10^{19}\n",
    "$$\n",
    "\n",
    "or about 43 quintillion permutations. "
   ]
  },
  {
   "cell_type": "code",
   "execution_count": 5,
   "metadata": {},
   "outputs": [
    {
     "name": "stdout",
     "output_type": "stream",
     "text": [
      "4.325200327448986e+19\n"
     ]
    }
   ],
   "source": [
    "print(3**7*2**11*(factorial(8)*factorial(12))/2)"
   ]
  },
  {
   "cell_type": "markdown",
   "metadata": {},
   "source": [
    "## Permutations of a 4x4 Cube\n",
    "\n",
    "On a 4x4 cube, we use the same technique as the 3x3, counting permutations due to both placement and orientation of each type of piece. Now each face has four corner pieces, four double edges for eight edge pieces, and four corners. Counting:\n",
    "\n",
    "* Placement: 8 corners being placed, for total of 8!\n",
    "* Placement: 12 left-double-edge pieces that can go in 24 possible double-edge locations, for a total of \\dfrac{24!}{12!}\n",
    "* Placement: 12 right-double-edge pieces that can go in 24 possible double-edge locations, for a total of \\dfrac{24!}{12!}\n",
    "* Placement: 24 center squares, which can be arranged in any configuration\n",
    "* Orientation: 3 orientations are possible on the 8 corners, placement of 7 determines the last, for total of 3^7\n",
    "* Orientation: interestingly, the position of a double-edge piece uniquely determines its orientation. If a left-double-edge piece is placed in a left-double-edge position, it will be oriented \"right-side up\". If a left-double-edge piece is placed in a right-double-edge position, it will be oriented \"upside-down\". And likewise for right-double-edge positions. That means that if a double edge cubie is made part of a double edge, it has only two possible positions on that double edge. Therefore, there are 0 degrees of freedom due to orientation of double edge pieces.\n",
    "* Orientation: Like the double-edge pieces, the center squares get 0 degrees of freedom due to orientation. Distributing 24 center squares among 24 center square positions uniquely determines the state of those center squares.\n",
    "\n",
    "The grand total, then, is: \n",
    "\n",
    "$$\n",
    "T = 3^7 \\times 8! \\times \\left( \\dfrac{24!}{12!} \\right)^2 = 147947189226886589978930309391974400000 \\sim 10^{38}\n",
    "$$"
   ]
  },
  {
   "cell_type": "code",
   "execution_count": 6,
   "metadata": {},
   "outputs": [
    {
     "name": "stdout",
     "output_type": "stream",
     "text": [
      "1.479471892268866e+38\n"
     ]
    }
   ],
   "source": [
    "print(3**7*factorial(8)*((factorial(24))/(factorial(12)))**2)"
   ]
  }
 ],
 "metadata": {
  "kernelspec": {
   "display_name": "Python 3",
   "language": "python",
   "name": "python3"
  },
  "language_info": {
   "codemirror_mode": {
    "name": "ipython",
    "version": 3
   },
   "file_extension": ".py",
   "mimetype": "text/x-python",
   "name": "python",
   "nbconvert_exporter": "python",
   "pygments_lexer": "ipython3",
   "version": "3.6.3"
  }
 },
 "nbformat": 4,
 "nbformat_minor": 2
}
