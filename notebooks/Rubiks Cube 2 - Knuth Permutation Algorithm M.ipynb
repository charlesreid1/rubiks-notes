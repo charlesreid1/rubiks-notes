{
 "cells": [
  {
   "cell_type": "code",
   "execution_count": 1,
   "metadata": {},
   "outputs": [],
   "source": [
    "def algorithm_m(n):\n",
    "    \"\"\"\n",
    "    Knuth's Algorithm M for permutation generation,\n",
    "    via AOCP Volume 4 Fascile 2.\n",
    "    This is a generator that returns permtuations \n",
    "    generated using the variable-radix method. \n",
    "\n",
    "    This generates ALL permutations.\n",
    "    Many of these are rotations of one another,\n",
    "    so use the get_rotations() function\n",
    "    below to get all rotations of a given\n",
    "    permutation.\n",
    "\n",
    "    A better way to do this is to clean up \n",
    "    algorithm M so it only generates\n",
    "    the original, plus the 24 rotations\n",
    "    each in turn... \n",
    "    \n",
    "    ...but that makes my brain hurt.\n",
    "    \"\"\"\n",
    "    moves = ['U', 'D', 'B', 'F', 'L', 'R',\n",
    "             'Uw','Dw','Bw','Fw','Lw','Rw']\n",
    "\n",
    "    # M1 - Initialize\n",
    "    a = np.zeros(n,)\n",
    "    m = np.ones(n,)*len(moves)\n",
    "\n",
    "    j = n-1\n",
    "\n",
    "    nvisits = 0\n",
    "    while True:\n",
    "\n",
    "        # M2 - visit\n",
    "        move_sequence = \" \".join([ moves[int(aj)] for aj in a])\n",
    "        yield move_sequence \n",
    "\n",
    "        nvisits += 1\n",
    "\n",
    "        # M3 - prepare to +1\n",
    "        j = n-1\n",
    "\n",
    "        # M4 - carry\n",
    "        while( a[j] == m[j]-1):\n",
    "            a[j] = 0\n",
    "            j = j-1\n",
    "        \n",
    "        # M5 - increase unless done\n",
    "        if(j<0):\n",
    "            break\n",
    "        else:\n",
    "            a[j] = a[j] + 1\n"
   ]
  },
  {
   "cell_type": "code",
   "execution_count": null,
   "metadata": {},
   "outputs": [],
   "source": []
  }
 ],
 "metadata": {
  "kernelspec": {
   "display_name": "Python 3",
   "language": "python",
   "name": "python3"
  },
  "language_info": {
   "codemirror_mode": {
    "name": "ipython",
    "version": 3
   },
   "file_extension": ".py",
   "mimetype": "text/x-python",
   "name": "python",
   "nbconvert_exporter": "python",
   "pygments_lexer": "ipython3",
   "version": "3.6.3"
  }
 },
 "nbformat": 4,
 "nbformat_minor": 2
}
