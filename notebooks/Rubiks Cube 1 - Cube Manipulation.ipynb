{
 "cells": [
  {
   "cell_type": "code",
   "execution_count": 1,
   "metadata": {},
   "outputs": [],
   "source": [
    "# Uses this rubiks cube solver:\n",
    "# https://github.com/dwalton76/rubiks-cube-NxNxN-solver\n",
    "from rubikscubennnsolver.RubiksCube444 import RubiksCube444, solved_4x4x4\n",
    "from pprint import pprint"
   ]
  },
  {
   "cell_type": "code",
   "execution_count": 2,
   "metadata": {},
   "outputs": [],
   "source": [
    "def get_cube():\n",
    "    \"\"\"\n",
    "    Get a 4x4 Rubiks Cube.\n",
    "    \"\"\"\n",
    "    order = 'URFDLB'\n",
    "    cube = RubiksCube444(solved_4x4x4, order)\n",
    "    return cube"
   ]
  },
  {
   "cell_type": "code",
   "execution_count": 3,
   "metadata": {},
   "outputs": [
    {
     "name": "stdout",
     "output_type": "stream",
     "text": [
      "         \u001b[97mU\u001b[0m \u001b[97mU\u001b[0m \u001b[97mU\u001b[0m \u001b[97mU\u001b[0m \n",
      "         \u001b[97mU\u001b[0m \u001b[97mU\u001b[0m \u001b[97mU\u001b[0m \u001b[97mU\u001b[0m \n",
      "         \u001b[97mU\u001b[0m \u001b[97mU\u001b[0m \u001b[97mU\u001b[0m \u001b[97mU\u001b[0m \n",
      "         \u001b[97mU\u001b[0m \u001b[97mU\u001b[0m \u001b[97mU\u001b[0m \u001b[97mU\u001b[0m \n",
      "\n",
      "\u001b[90mL\u001b[0m \u001b[90mL\u001b[0m \u001b[90mL\u001b[0m \u001b[90mL\u001b[0m  \u001b[92mF\u001b[0m \u001b[92mF\u001b[0m \u001b[92mF\u001b[0m \u001b[92mF\u001b[0m  \u001b[91mR\u001b[0m \u001b[91mR\u001b[0m \u001b[91mR\u001b[0m \u001b[91mR\u001b[0m  \u001b[94mB\u001b[0m \u001b[94mB\u001b[0m \u001b[94mB\u001b[0m \u001b[94mB\u001b[0m \n",
      "\u001b[90mL\u001b[0m \u001b[90mL\u001b[0m \u001b[90mL\u001b[0m \u001b[90mL\u001b[0m  \u001b[92mF\u001b[0m \u001b[92mF\u001b[0m \u001b[92mF\u001b[0m \u001b[92mF\u001b[0m  \u001b[91mR\u001b[0m \u001b[91mR\u001b[0m \u001b[91mR\u001b[0m \u001b[91mR\u001b[0m  \u001b[94mB\u001b[0m \u001b[94mB\u001b[0m \u001b[94mB\u001b[0m \u001b[94mB\u001b[0m \n",
      "\u001b[90mL\u001b[0m \u001b[90mL\u001b[0m \u001b[90mL\u001b[0m \u001b[90mL\u001b[0m  \u001b[92mF\u001b[0m \u001b[92mF\u001b[0m \u001b[92mF\u001b[0m \u001b[92mF\u001b[0m  \u001b[91mR\u001b[0m \u001b[91mR\u001b[0m \u001b[91mR\u001b[0m \u001b[91mR\u001b[0m  \u001b[94mB\u001b[0m \u001b[94mB\u001b[0m \u001b[94mB\u001b[0m \u001b[94mB\u001b[0m \n",
      "\u001b[90mL\u001b[0m \u001b[90mL\u001b[0m \u001b[90mL\u001b[0m \u001b[90mL\u001b[0m  \u001b[92mF\u001b[0m \u001b[92mF\u001b[0m \u001b[92mF\u001b[0m \u001b[92mF\u001b[0m  \u001b[91mR\u001b[0m \u001b[91mR\u001b[0m \u001b[91mR\u001b[0m \u001b[91mR\u001b[0m  \u001b[94mB\u001b[0m \u001b[94mB\u001b[0m \u001b[94mB\u001b[0m \u001b[94mB\u001b[0m \n",
      "\n",
      "         \u001b[93mD\u001b[0m \u001b[93mD\u001b[0m \u001b[93mD\u001b[0m \u001b[93mD\u001b[0m \n",
      "         \u001b[93mD\u001b[0m \u001b[93mD\u001b[0m \u001b[93mD\u001b[0m \u001b[93mD\u001b[0m \n",
      "         \u001b[93mD\u001b[0m \u001b[93mD\u001b[0m \u001b[93mD\u001b[0m \u001b[93mD\u001b[0m \n",
      "         \u001b[93mD\u001b[0m \u001b[93mD\u001b[0m \u001b[93mD\u001b[0m \u001b[93mD\u001b[0m \n",
      "\n",
      "\n"
     ]
    }
   ],
   "source": [
    "rr = get_cube()\n",
    "rr.print_cube()"
   ]
  },
  {
   "cell_type": "code",
   "execution_count": 4,
   "metadata": {},
   "outputs": [],
   "source": [
    "# Apply this sequence 3 times to a solved cube, and the cross pattern re-appears on each face.\n",
    "# Apply this sequence 6 times to a solved cube, and the entire cube returns to solved state.\n",
    "sequence = [\"U\",\"L\",\"U'\",\"L'\"]"
   ]
  },
  {
   "cell_type": "code",
   "execution_count": 5,
   "metadata": {},
   "outputs": [],
   "source": [
    "for move in sequence:\n",
    "    rr.rotate(move)\n",
    "for move in sequence:\n",
    "    rr.rotate(move)\n",
    "for move in sequence:\n",
    "    rr.rotate(move)"
   ]
  },
  {
   "cell_type": "code",
   "execution_count": 6,
   "metadata": {},
   "outputs": [
    {
     "name": "stdout",
     "output_type": "stream",
     "text": [
      "         \u001b[93mD\u001b[0m \u001b[97mU\u001b[0m \u001b[97mU\u001b[0m \u001b[97mU\u001b[0m \n",
      "         \u001b[97mU\u001b[0m \u001b[97mU\u001b[0m \u001b[97mU\u001b[0m \u001b[97mU\u001b[0m \n",
      "         \u001b[97mU\u001b[0m \u001b[97mU\u001b[0m \u001b[97mU\u001b[0m \u001b[97mU\u001b[0m \n",
      "         \u001b[92mF\u001b[0m \u001b[97mU\u001b[0m \u001b[97mU\u001b[0m \u001b[92mF\u001b[0m \n",
      "\n",
      "\u001b[94mB\u001b[0m \u001b[90mL\u001b[0m \u001b[90mL\u001b[0m \u001b[91mR\u001b[0m  \u001b[97mU\u001b[0m \u001b[92mF\u001b[0m \u001b[92mF\u001b[0m \u001b[97mU\u001b[0m  \u001b[90mL\u001b[0m \u001b[91mR\u001b[0m \u001b[91mR\u001b[0m \u001b[91mR\u001b[0m  \u001b[94mB\u001b[0m \u001b[94mB\u001b[0m \u001b[94mB\u001b[0m \u001b[90mL\u001b[0m \n",
      "\u001b[90mL\u001b[0m \u001b[90mL\u001b[0m \u001b[90mL\u001b[0m \u001b[90mL\u001b[0m  \u001b[92mF\u001b[0m \u001b[92mF\u001b[0m \u001b[92mF\u001b[0m \u001b[92mF\u001b[0m  \u001b[91mR\u001b[0m \u001b[91mR\u001b[0m \u001b[91mR\u001b[0m \u001b[91mR\u001b[0m  \u001b[94mB\u001b[0m \u001b[94mB\u001b[0m \u001b[94mB\u001b[0m \u001b[94mB\u001b[0m \n",
      "\u001b[90mL\u001b[0m \u001b[90mL\u001b[0m \u001b[90mL\u001b[0m \u001b[90mL\u001b[0m  \u001b[92mF\u001b[0m \u001b[92mF\u001b[0m \u001b[92mF\u001b[0m \u001b[92mF\u001b[0m  \u001b[91mR\u001b[0m \u001b[91mR\u001b[0m \u001b[91mR\u001b[0m \u001b[91mR\u001b[0m  \u001b[94mB\u001b[0m \u001b[94mB\u001b[0m \u001b[94mB\u001b[0m \u001b[94mB\u001b[0m \n",
      "\u001b[94mB\u001b[0m \u001b[90mL\u001b[0m \u001b[90mL\u001b[0m \u001b[90mL\u001b[0m  \u001b[92mF\u001b[0m \u001b[92mF\u001b[0m \u001b[92mF\u001b[0m \u001b[92mF\u001b[0m  \u001b[91mR\u001b[0m \u001b[91mR\u001b[0m \u001b[91mR\u001b[0m \u001b[91mR\u001b[0m  \u001b[94mB\u001b[0m \u001b[94mB\u001b[0m \u001b[94mB\u001b[0m \u001b[90mL\u001b[0m \n",
      "\n",
      "         \u001b[93mD\u001b[0m \u001b[93mD\u001b[0m \u001b[93mD\u001b[0m \u001b[93mD\u001b[0m \n",
      "         \u001b[93mD\u001b[0m \u001b[93mD\u001b[0m \u001b[93mD\u001b[0m \u001b[93mD\u001b[0m \n",
      "         \u001b[93mD\u001b[0m \u001b[93mD\u001b[0m \u001b[93mD\u001b[0m \u001b[93mD\u001b[0m \n",
      "         \u001b[97mU\u001b[0m \u001b[93mD\u001b[0m \u001b[93mD\u001b[0m \u001b[93mD\u001b[0m \n",
      "\n",
      "\n"
     ]
    },
    {
     "data": {
      "text/plain": [
       "True"
      ]
     },
     "execution_count": 6,
     "metadata": {},
     "output_type": "execute_result"
    }
   ],
   "source": [
    "rr.print_cube()\n",
    "rr.crosses_solved()"
   ]
  },
  {
   "cell_type": "code",
   "execution_count": 7,
   "metadata": {},
   "outputs": [],
   "source": [
    "for move in sequence:\n",
    "    rr.rotate(move)\n",
    "for move in sequence:\n",
    "    rr.rotate(move)\n",
    "for move in sequence:\n",
    "    rr.rotate(move)"
   ]
  },
  {
   "cell_type": "code",
   "execution_count": 8,
   "metadata": {},
   "outputs": [
    {
     "name": "stdout",
     "output_type": "stream",
     "text": [
      "         \u001b[97mU\u001b[0m \u001b[97mU\u001b[0m \u001b[97mU\u001b[0m \u001b[97mU\u001b[0m \n",
      "         \u001b[97mU\u001b[0m \u001b[97mU\u001b[0m \u001b[97mU\u001b[0m \u001b[97mU\u001b[0m \n",
      "         \u001b[97mU\u001b[0m \u001b[97mU\u001b[0m \u001b[97mU\u001b[0m \u001b[97mU\u001b[0m \n",
      "         \u001b[97mU\u001b[0m \u001b[97mU\u001b[0m \u001b[97mU\u001b[0m \u001b[97mU\u001b[0m \n",
      "\n",
      "\u001b[90mL\u001b[0m \u001b[90mL\u001b[0m \u001b[90mL\u001b[0m \u001b[90mL\u001b[0m  \u001b[92mF\u001b[0m \u001b[92mF\u001b[0m \u001b[92mF\u001b[0m \u001b[92mF\u001b[0m  \u001b[91mR\u001b[0m \u001b[91mR\u001b[0m \u001b[91mR\u001b[0m \u001b[91mR\u001b[0m  \u001b[94mB\u001b[0m \u001b[94mB\u001b[0m \u001b[94mB\u001b[0m \u001b[94mB\u001b[0m \n",
      "\u001b[90mL\u001b[0m \u001b[90mL\u001b[0m \u001b[90mL\u001b[0m \u001b[90mL\u001b[0m  \u001b[92mF\u001b[0m \u001b[92mF\u001b[0m \u001b[92mF\u001b[0m \u001b[92mF\u001b[0m  \u001b[91mR\u001b[0m \u001b[91mR\u001b[0m \u001b[91mR\u001b[0m \u001b[91mR\u001b[0m  \u001b[94mB\u001b[0m \u001b[94mB\u001b[0m \u001b[94mB\u001b[0m \u001b[94mB\u001b[0m \n",
      "\u001b[90mL\u001b[0m \u001b[90mL\u001b[0m \u001b[90mL\u001b[0m \u001b[90mL\u001b[0m  \u001b[92mF\u001b[0m \u001b[92mF\u001b[0m \u001b[92mF\u001b[0m \u001b[92mF\u001b[0m  \u001b[91mR\u001b[0m \u001b[91mR\u001b[0m \u001b[91mR\u001b[0m \u001b[91mR\u001b[0m  \u001b[94mB\u001b[0m \u001b[94mB\u001b[0m \u001b[94mB\u001b[0m \u001b[94mB\u001b[0m \n",
      "\u001b[90mL\u001b[0m \u001b[90mL\u001b[0m \u001b[90mL\u001b[0m \u001b[90mL\u001b[0m  \u001b[92mF\u001b[0m \u001b[92mF\u001b[0m \u001b[92mF\u001b[0m \u001b[92mF\u001b[0m  \u001b[91mR\u001b[0m \u001b[91mR\u001b[0m \u001b[91mR\u001b[0m \u001b[91mR\u001b[0m  \u001b[94mB\u001b[0m \u001b[94mB\u001b[0m \u001b[94mB\u001b[0m \u001b[94mB\u001b[0m \n",
      "\n",
      "         \u001b[93mD\u001b[0m \u001b[93mD\u001b[0m \u001b[93mD\u001b[0m \u001b[93mD\u001b[0m \n",
      "         \u001b[93mD\u001b[0m \u001b[93mD\u001b[0m \u001b[93mD\u001b[0m \u001b[93mD\u001b[0m \n",
      "         \u001b[93mD\u001b[0m \u001b[93mD\u001b[0m \u001b[93mD\u001b[0m \u001b[93mD\u001b[0m \n",
      "         \u001b[93mD\u001b[0m \u001b[93mD\u001b[0m \u001b[93mD\u001b[0m \u001b[93mD\u001b[0m \n",
      "\n",
      "\n"
     ]
    },
    {
     "data": {
      "text/plain": [
       "True"
      ]
     },
     "execution_count": 8,
     "metadata": {},
     "output_type": "execute_result"
    }
   ],
   "source": [
    "rr.print_cube()\n",
    "rr.crosses_solved()\n",
    "rr.solved()"
   ]
  }
 ],
 "metadata": {
  "kernelspec": {
   "display_name": "Python 3",
   "language": "python",
   "name": "python3"
  },
  "language_info": {
   "codemirror_mode": {
    "name": "ipython",
    "version": 3
   },
   "file_extension": ".py",
   "mimetype": "text/x-python",
   "name": "python",
   "nbconvert_exporter": "python",
   "pygments_lexer": "ipython3",
   "version": "3.6.3"
  }
 },
 "nbformat": 4,
 "nbformat_minor": 2
}
