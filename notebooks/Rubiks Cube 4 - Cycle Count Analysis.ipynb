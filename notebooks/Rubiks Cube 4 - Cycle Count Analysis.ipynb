{
 "cells": [
  {
   "cell_type": "code",
   "execution_count": 7,
   "metadata": {},
   "outputs": [],
   "source": [
    "import numpy as np\n",
    "import pandas as pd\n",
    "import matplotlib.pyplot as plt\n",
    "import seaborn as sns\n",
    "import json, os, re\n",
    "%matplotlib inline"
   ]
  },
  {
   "cell_type": "code",
   "execution_count": 9,
   "metadata": {},
   "outputs": [],
   "source": [
    "with open('sequence2.json','r') as f:\n",
    "    s2 = json.load(f)\n",
    "with open('sequence3.json','r') as f:\n",
    "    s3 = json.load(f)\n",
    "with open('sequence4.json','r') as f:\n",
    "    s4 = json.load(f)"
   ]
  },
  {
   "cell_type": "code",
   "execution_count": 22,
   "metadata": {},
   "outputs": [
    {
     "name": "stdout",
     "output_type": "stream",
     "text": [
      "U B : 105\n",
      "U Bw : 240\n",
      "U D : 4\n",
      "U Dw : 4\n",
      "U F : 105\n",
      "U Fw : 240\n",
      "U L : 105\n",
      "U Lw : 240\n",
      "U R : 105\n",
      "U Rw : 240\n",
      "U U : 2\n",
      "U Uw : 4\n",
      "Uw B : 240\n",
      "Uw Bw : 15\n",
      "Uw D : 4\n",
      "Uw Dw : 2\n",
      "Uw F : 240\n",
      "Uw Fw : 15\n",
      "Uw L : 240\n",
      "Uw Lw : 15\n",
      "Uw R : 240\n",
      "Uw Rw : 15\n",
      "Uw U : 4\n",
      "Uw Uw : 2\n"
     ]
    }
   ],
   "source": [
    "for seq in s2:\n",
    "    print(\"%s : %d\"%(seq,s2[seq][2]))"
   ]
  },
  {
   "cell_type": "code",
   "execution_count": null,
   "metadata": {},
   "outputs": [],
   "source": []
  }
 ],
 "metadata": {
  "kernelspec": {
   "display_name": "Python 3",
   "language": "python",
   "name": "python3"
  },
  "language_info": {
   "codemirror_mode": {
    "name": "ipython",
    "version": 3
   },
   "file_extension": ".py",
   "mimetype": "text/x-python",
   "name": "python",
   "nbconvert_exporter": "python",
   "pygments_lexer": "ipython3",
   "version": "3.6.3"
  }
 },
 "nbformat": 4,
 "nbformat_minor": 2
}
